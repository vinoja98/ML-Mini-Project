{
 "cells": [
  {
   "cell_type": "code",
   "execution_count": 1,
   "id": "15a93fdb",
   "metadata": {
    "_cell_guid": "b1076dfc-b9ad-4769-8c92-a6c4dae69d19",
    "_uuid": "8f2839f25d086af736a60e9eeb907d3b93b6e0e5",
    "execution": {
     "iopub.execute_input": "2022-08-11T09:42:21.118309Z",
     "iopub.status.busy": "2022-08-11T09:42:21.116648Z",
     "iopub.status.idle": "2022-08-11T09:42:21.147250Z",
     "shell.execute_reply": "2022-08-11T09:42:21.145690Z"
    },
    "papermill": {
     "duration": 0.046148,
     "end_time": "2022-08-11T09:42:21.150577",
     "exception": false,
     "start_time": "2022-08-11T09:42:21.104429",
     "status": "completed"
    },
    "tags": []
   },
   "outputs": [
    {
     "name": "stdout",
     "output_type": "stream",
     "text": [
      "/kaggle/input/amex-data-integer-dtypes-parquet-format/train.parquet\n",
      "/kaggle/input/amex-data-integer-dtypes-parquet-format/test.parquet\n",
      "/kaggle/input/amex-default-prediction/sample_submission.csv\n",
      "/kaggle/input/amex-default-prediction/train_data.csv\n",
      "/kaggle/input/amex-default-prediction/test_data.csv\n",
      "/kaggle/input/amex-default-prediction/train_labels.csv\n",
      "/kaggle/input/amexfeather/test_data_f32.ftr\n",
      "/kaggle/input/amexfeather/train_data.ftr\n",
      "/kaggle/input/amexfeather/train_data_f32.ftr\n",
      "/kaggle/input/amexfeather/test_data.ftr\n"
     ]
    }
   ],
   "source": [
    "# This Python 3 environment comes with many helpful analytics libraries installed\n",
    "# It is defined by the kaggle/python Docker image: https://github.com/kaggle/docker-python\n",
    "# For example, here's several helpful packages to load\n",
    "\n",
    "import numpy as np # linear algebra\n",
    "import pandas as pd # data processing, CSV file I/O (e.g. pd.read_csv)\n",
    "\n",
    "# Input data files are available in the read-only \"../input/\" directory\n",
    "# For example, running this (by clicking run or pressing Shift+Enter) will list all files under the input directory\n",
    "\n",
    "import os\n",
    "for dirname, _, filenames in os.walk('/kaggle/input'):\n",
    "    for filename in filenames:\n",
    "        print(os.path.join(dirname, filename))\n",
    "\n",
    "# You can write up to 20GB to the current directory (/kaggle/working/) that gets preserved as output when you create a version using \"Save & Run All\" \n",
    "# You can also write temporary files to /kaggle/temp/, but they won't be saved outside of the current session"
   ]
  },
  {
   "cell_type": "markdown",
   "id": "dff501a3",
   "metadata": {
    "papermill": {
     "duration": 0.008427,
     "end_time": "2022-08-11T09:42:21.198599",
     "exception": false,
     "start_time": "2022-08-11T09:42:21.190172",
     "status": "completed"
    },
    "tags": []
   },
   "source": [
    "# Import Libraries\n",
    "<a id=\"import-libraries\"></a>"
   ]
  },
  {
   "cell_type": "code",
   "execution_count": 2,
   "id": "562aa0f5",
   "metadata": {
    "execution": {
     "iopub.execute_input": "2022-08-11T09:42:21.217273Z",
     "iopub.status.busy": "2022-08-11T09:42:21.216878Z",
     "iopub.status.idle": "2022-08-11T09:42:24.027180Z",
     "shell.execute_reply": "2022-08-11T09:42:24.025618Z"
    },
    "papermill": {
     "duration": 2.823433,
     "end_time": "2022-08-11T09:42:24.030772",
     "exception": false,
     "start_time": "2022-08-11T09:42:21.207339",
     "status": "completed"
    },
    "tags": []
   },
   "outputs": [
    {
     "data": {
      "text/html": [
       "<style type='text/css'>\n",
       ".datatable table.frame { margin-bottom: 0; }\n",
       ".datatable table.frame thead { border-bottom: none; }\n",
       ".datatable table.frame tr.coltypes td {  color: #FFFFFF;  line-height: 6px;  padding: 0 0.5em;}\n",
       ".datatable .bool    { background: #DDDD99; }\n",
       ".datatable .object  { background: #565656; }\n",
       ".datatable .int     { background: #5D9E5D; }\n",
       ".datatable .float   { background: #4040CC; }\n",
       ".datatable .str     { background: #CC4040; }\n",
       ".datatable .time    { background: #40CC40; }\n",
       ".datatable .row_index {  background: var(--jp-border-color3);  border-right: 1px solid var(--jp-border-color0);  color: var(--jp-ui-font-color3);  font-size: 9px;}\n",
       ".datatable .frame tbody td { text-align: left; }\n",
       ".datatable .frame tr.coltypes .row_index {  background: var(--jp-border-color0);}\n",
       ".datatable th:nth-child(2) { padding-left: 12px; }\n",
       ".datatable .hellipsis {  color: var(--jp-cell-editor-border-color);}\n",
       ".datatable .vellipsis {  background: var(--jp-layout-color0);  color: var(--jp-cell-editor-border-color);}\n",
       ".datatable .na {  color: var(--jp-cell-editor-border-color);  font-size: 80%;}\n",
       ".datatable .sp {  opacity: 0.25;}\n",
       ".datatable .footer { font-size: 9px; }\n",
       ".datatable .frame_dimensions {  background: var(--jp-border-color3);  border-top: 1px solid var(--jp-border-color0);  color: var(--jp-ui-font-color3);  display: inline-block;  opacity: 0.6;  padding: 1px 10px 1px 5px;}\n",
       "</style>\n"
      ],
      "text/plain": [
       "<IPython.core.display.HTML object>"
      ]
     },
     "metadata": {},
     "output_type": "display_data"
    }
   ],
   "source": [
    "# data preparation\n",
    "import pandas as pd\n",
    "import numpy as np\n",
    "\n",
    "# visualization\n",
    "import seaborn as sns\n",
    "import matplotlib.pyplot as plt\n",
    "%matplotlib inline\n",
    "\n",
    "# data preprocessing\n",
    "from sklearn.model_selection import train_test_split\n",
    "from sklearn.metrics import accuracy_score  \n",
    "from sklearn.metrics import precision_score                         \n",
    "from sklearn.metrics import recall_score\n",
    "from sklearn.impute import SimpleImputer\n",
    "from sklearn import preprocessing\n",
    "from sklearn.pipeline import Pipeline\n",
    "from sklearn.model_selection import StratifiedKFold\n",
    "from lightgbm import LGBMClassifier, log_evaluation\n"
   ]
  },
  {
   "attachments": {},
   "cell_type": "markdown",
   "id": "94bfe693",
   "metadata": {
    "papermill": {
     "duration": 0.009376,
     "end_time": "2022-08-11T09:42:24.052232",
     "exception": false,
     "start_time": "2022-08-11T09:42:24.042856",
     "status": "completed"
    },
    "tags": []
   },
   "source": [
    "# Use amexfeather Dataset\n",
    "<a id=\"dataset\"></a>"
   ]
  },
  {
   "cell_type": "code",
   "execution_count": 3,
   "id": "485b127c",
   "metadata": {
    "execution": {
     "iopub.execute_input": "2022-08-11T09:42:24.091151Z",
     "iopub.status.busy": "2022-08-11T09:42:24.090073Z",
     "iopub.status.idle": "2022-08-11T09:43:31.318975Z",
     "shell.execute_reply": "2022-08-11T09:43:31.316892Z"
    },
    "papermill": {
     "duration": 67.25266,
     "end_time": "2022-08-11T09:43:31.330194",
     "exception": false,
     "start_time": "2022-08-11T09:42:24.077534",
     "status": "completed"
    },
    "tags": []
   },
   "outputs": [
    {
     "name": "stdout",
     "output_type": "stream",
     "text": [
      "CPU times: user 35.8 s, sys: 25 s, total: 1min\n",
      "Wall time: 1min 7s\n"
     ]
    }
   ],
   "source": [
    "%%time\n",
    "train_data = pd.read_feather('../input/amexfeather/train_data.ftr')\n",
    "test_data = pd.read_feather('../input/amexfeather/test_data.ftr')\n",
    "train=train_data.groupby('customer_ID').tail(1)\n",
    "train=train.set_index(['customer_ID'])\n",
    "# consider the most recent transaction for each customer out of the multiple transactions.\n",
    "test=test_data.groupby('customer_ID').tail(1)\n",
    "test=test.set_index(['customer_ID'])\n",
    "del train_data\n",
    "del test_data"
   ]
  },
  {
   "cell_type": "code",
   "execution_count": 4,
   "id": "a8ffe623",
   "metadata": {
    "execution": {
     "iopub.execute_input": "2022-08-11T09:43:31.348991Z",
     "iopub.status.busy": "2022-08-11T09:43:31.348508Z",
     "iopub.status.idle": "2022-08-11T09:43:32.611823Z",
     "shell.execute_reply": "2022-08-11T09:43:32.610061Z"
    },
    "papermill": {
     "duration": 1.276689,
     "end_time": "2022-08-11T09:43:32.615503",
     "exception": false,
     "start_time": "2022-08-11T09:43:31.338814",
     "status": "completed"
    },
    "tags": []
   },
   "outputs": [
    {
     "name": "stdout",
     "output_type": "stream",
     "text": [
      "<class 'pandas.core.frame.DataFrame'>\n",
      "Index: 458913 entries, 0000099d6bd597052cdcda90ffabf56573fe9d7c79be5fbac11a8ed792feb62a to fffff1d38b785cef84adeace64f8f83db3a0c31e8d92eaba8b115f71cab04681\n",
      "Data columns (total 190 columns):\n",
      " #    Column  Non-Null Count   Dtype         \n",
      "---   ------  --------------   -----         \n",
      " 0    S_2     458913 non-null  datetime64[ns]\n",
      " 1    P_2     455944 non-null  float16       \n",
      " 2    D_39    458913 non-null  float16       \n",
      " 3    B_1     458913 non-null  float16       \n",
      " 4    B_2     458882 non-null  float16       \n",
      " 5    R_1     458913 non-null  float16       \n",
      " 6    S_3     373943 non-null  float16       \n",
      " 7    D_41    458882 non-null  float16       \n",
      " 8    B_3     458882 non-null  float16       \n",
      " 9    D_42    59910 non-null   float16       \n",
      " 10   D_43    324591 non-null  float16       \n",
      " 11   D_44    436618 non-null  float16       \n",
      " 12   B_4     458913 non-null  float16       \n",
      " 13   D_45    458882 non-null  float16       \n",
      " 14   B_5     458913 non-null  float16       \n",
      " 15   R_2     458913 non-null  float16       \n",
      " 16   D_46    363790 non-null  float16       \n",
      " 17   D_47    458913 non-null  float16       \n",
      " 18   D_48    400921 non-null  float16       \n",
      " 19   D_49    51763 non-null   float16       \n",
      " 20   B_6     458873 non-null  float16       \n",
      " 21   B_7     458913 non-null  float16       \n",
      " 22   B_8     454822 non-null  float16       \n",
      " 23   D_50    196678 non-null  float16       \n",
      " 24   D_51    458913 non-null  float16       \n",
      " 25   B_9     458913 non-null  float16       \n",
      " 26   R_3     458913 non-null  float16       \n",
      " 27   D_52    457673 non-null  float16       \n",
      " 28   P_3     436693 non-null  float16       \n",
      " 29   B_10    458913 non-null  float16       \n",
      " 30   D_53    132981 non-null  float16       \n",
      " 31   S_5     458913 non-null  float16       \n",
      " 32   B_11    458913 non-null  float16       \n",
      " 33   S_6     458913 non-null  float16       \n",
      " 34   D_54    458882 non-null  float16       \n",
      " 35   R_4     458913 non-null  float16       \n",
      " 36   S_7     373943 non-null  float16       \n",
      " 37   B_12    458913 non-null  float16       \n",
      " 38   S_8     458913 non-null  float16       \n",
      " 39   D_55    428536 non-null  float16       \n",
      " 40   D_56    214179 non-null  float16       \n",
      " 41   B_13    457350 non-null  float16       \n",
      " 42   R_5     458913 non-null  float16       \n",
      " 43   D_58    458913 non-null  float16       \n",
      " 44   S_9     275055 non-null  float16       \n",
      " 45   B_14    458913 non-null  float16       \n",
      " 46   D_59    454827 non-null  float16       \n",
      " 47   D_60    458913 non-null  float16       \n",
      " 48   D_61    410565 non-null  float16       \n",
      " 49   B_15    458301 non-null  float16       \n",
      " 50   S_11    458913 non-null  float16       \n",
      " 51   D_62    399960 non-null  float16       \n",
      " 52   D_63    458913 non-null  category      \n",
      " 53   D_64    458913 non-null  category      \n",
      " 54   D_65    458913 non-null  float16       \n",
      " 55   B_16    458882 non-null  float16       \n",
      " 56   B_17    214442 non-null  float16       \n",
      " 57   B_18    458913 non-null  float16       \n",
      " 58   B_19    458882 non-null  float16       \n",
      " 59   D_66    52582 non-null   category      \n",
      " 60   B_20    458882 non-null  float16       \n",
      " 61   D_68    449901 non-null  category      \n",
      " 62   S_12    458913 non-null  float16       \n",
      " 63   R_6     458913 non-null  float16       \n",
      " 64   S_13    458913 non-null  float16       \n",
      " 65   B_21    458913 non-null  float16       \n",
      " 66   D_69    452548 non-null  float16       \n",
      " 67   B_22    458882 non-null  float16       \n",
      " 68   D_70    454717 non-null  float16       \n",
      " 69   D_71    458913 non-null  float16       \n",
      " 70   D_72    457697 non-null  float16       \n",
      " 71   S_15    458913 non-null  float16       \n",
      " 72   B_23    458913 non-null  float16       \n",
      " 73   D_73    4239 non-null    float16       \n",
      " 74   P_4     458913 non-null  float16       \n",
      " 75   D_74    457212 non-null  float16       \n",
      " 76   D_75    458913 non-null  float16       \n",
      " 77   D_76    49316 non-null   float16       \n",
      " 78   B_24    458913 non-null  float16       \n",
      " 79   R_7     458913 non-null  float16       \n",
      " 80   D_77    245076 non-null  float16       \n",
      " 81   B_25    458301 non-null  float16       \n",
      " 82   B_26    458882 non-null  float16       \n",
      " 83   D_78    436618 non-null  float16       \n",
      " 84   D_79    456118 non-null  float16       \n",
      " 85   R_8     458913 non-null  float16       \n",
      " 86   R_9     26953 non-null   float16       \n",
      " 87   S_16    458913 non-null  float16       \n",
      " 88   D_80    457212 non-null  float16       \n",
      " 89   R_10    458913 non-null  float16       \n",
      " 90   R_11    458913 non-null  float16       \n",
      " 91   B_27    458882 non-null  float16       \n",
      " 92   D_81    457723 non-null  float16       \n",
      " 93   D_82    115618 non-null  float16       \n",
      " 94   S_17    458913 non-null  float16       \n",
      " 95   R_12    458913 non-null  float16       \n",
      " 96   B_28    458913 non-null  float16       \n",
      " 97   R_13    458913 non-null  float16       \n",
      " 98   D_83    452548 non-null  float16       \n",
      " 99   R_14    458913 non-null  float16       \n",
      " 100  R_15    458913 non-null  float16       \n",
      " 101  D_84    457673 non-null  float16       \n",
      " 102  R_16    458913 non-null  float16       \n",
      " 103  B_29    27324 non-null   float16       \n",
      " 104  B_30    458882 non-null  category      \n",
      " 105  S_18    458913 non-null  float16       \n",
      " 106  D_86    458913 non-null  float16       \n",
      " 107  D_87    645 non-null     float16       \n",
      " 108  R_17    458913 non-null  float16       \n",
      " 109  R_18    458913 non-null  float16       \n",
      " 110  D_88    827 non-null     float16       \n",
      " 111  B_31    458913 non-null  float16       \n",
      " 112  S_19    458913 non-null  float16       \n",
      " 113  R_19    458913 non-null  float16       \n",
      " 114  B_32    458913 non-null  float16       \n",
      " 115  S_20    458913 non-null  float16       \n",
      " 116  R_20    458913 non-null  float16       \n",
      " 117  R_21    458913 non-null  float16       \n",
      " 118  B_33    458882 non-null  float16       \n",
      " 119  D_89    457673 non-null  float16       \n",
      " 120  R_22    458913 non-null  float16       \n",
      " 121  R_23    458913 non-null  float16       \n",
      " 122  D_91    446106 non-null  float16       \n",
      " 123  D_92    458913 non-null  float16       \n",
      " 124  D_93    458913 non-null  float16       \n",
      " 125  D_94    458913 non-null  float16       \n",
      " 126  R_24    458913 non-null  float16       \n",
      " 127  R_25    458913 non-null  float16       \n",
      " 128  D_96    458913 non-null  float16       \n",
      " 129  S_22    457146 non-null  float16       \n",
      " 130  S_23    458869 non-null  float16       \n",
      " 131  S_24    457179 non-null  float16       \n",
      " 132  S_25    457492 non-null  float16       \n",
      " 133  S_26    458913 non-null  float16       \n",
      " 134  D_102   458913 non-null  float16       \n",
      " 135  D_103   456083 non-null  float16       \n",
      " 136  D_104   456083 non-null  float16       \n",
      " 137  D_105   213311 non-null  float16       \n",
      " 138  D_106   51648 non-null   float16       \n",
      " 139  D_107   456083 non-null  float16       \n",
      " 140  B_36    458913 non-null  float16       \n",
      " 141  B_37    458913 non-null  float16       \n",
      " 142  R_26    51143 non-null   float16       \n",
      " 143  R_27    430177 non-null  float16       \n",
      " 144  B_38    458882 non-null  category      \n",
      " 145  D_108   2627 non-null    float16       \n",
      " 146  D_109   458882 non-null  float16       \n",
      " 147  D_110   3678 non-null    float16       \n",
      " 148  D_111   3678 non-null    float16       \n",
      " 149  B_39    4105 non-null    float16       \n",
      " 150  D_112   458882 non-null  float16       \n",
      " 151  B_40    458913 non-null  float16       \n",
      " 152  S_27    341747 non-null  float16       \n",
      " 153  D_113   452896 non-null  float16       \n",
      " 154  D_114   452896 non-null  category      \n",
      " 155  D_115   452896 non-null  float16       \n",
      " 156  D_116   452896 non-null  category      \n",
      " 157  D_117   452896 non-null  category      \n",
      " 158  D_118   452896 non-null  float16       \n",
      " 159  D_119   452896 non-null  float16       \n",
      " 160  D_120   452896 non-null  category      \n",
      " 161  D_121   452896 non-null  float16       \n",
      " 162  D_122   452896 non-null  float16       \n",
      " 163  D_123   452896 non-null  float16       \n",
      " 164  D_124   452896 non-null  float16       \n",
      " 165  D_125   452896 non-null  float16       \n",
      " 166  D_126   458913 non-null  category      \n",
      " 167  D_127   458913 non-null  float16       \n",
      " 168  D_128   456083 non-null  float16       \n",
      " 169  D_129   456083 non-null  float16       \n",
      " 170  B_41    458913 non-null  float16       \n",
      " 171  B_42    6142 non-null    float16       \n",
      " 172  D_130   456083 non-null  float16       \n",
      " 173  D_131   456083 non-null  float16       \n",
      " 174  D_132   51760 non-null   float16       \n",
      " 175  D_133   458913 non-null  float16       \n",
      " 176  R_28    458913 non-null  float16       \n",
      " 177  D_134   16395 non-null   float16       \n",
      " 178  D_135   16395 non-null   float16       \n",
      " 179  D_136   16395 non-null   float16       \n",
      " 180  D_137   16395 non-null   float16       \n",
      " 181  D_138   16395 non-null   float16       \n",
      " 182  D_139   456083 non-null  float16       \n",
      " 183  D_140   458913 non-null  float16       \n",
      " 184  D_141   456083 non-null  float16       \n",
      " 185  D_142   80315 non-null   float16       \n",
      " 186  D_143   456083 non-null  float16       \n",
      " 187  D_144   458913 non-null  float16       \n",
      " 188  D_145   456083 non-null  float16       \n",
      " 189  target  458913 non-null  int64         \n",
      "dtypes: category(11), datetime64[ns](1), float16(177), int64(1)\n",
      "memory usage: 170.2+ MB\n"
     ]
    }
   ],
   "source": [
    "train.info(max_cols=200, show_counts=True)"
   ]
  },
  {
   "attachments": {},
   "cell_type": "markdown",
   "id": "811a1f7f",
   "metadata": {
    "papermill": {
     "duration": 0.008271,
     "end_time": "2022-08-11T09:43:32.650248",
     "exception": false,
     "start_time": "2022-08-11T09:43:32.641977",
     "status": "completed"
    },
    "tags": []
   },
   "source": [
    "# Check Missing Values\n",
    "<a id=\"missing\"></a>"
   ]
  },
  {
   "cell_type": "code",
   "execution_count": 5,
   "id": "a2a5a2e8",
   "metadata": {
    "execution": {
     "iopub.execute_input": "2022-08-11T09:43:32.670735Z",
     "iopub.status.busy": "2022-08-11T09:43:32.669438Z",
     "iopub.status.idle": "2022-08-11T09:43:33.156690Z",
     "shell.execute_reply": "2022-08-11T09:43:33.155286Z"
    },
    "papermill": {
     "duration": 0.50054,
     "end_time": "2022-08-11T09:43:33.159906",
     "exception": false,
     "start_time": "2022-08-11T09:43:32.659366",
     "status": "completed"
    },
    "tags": []
   },
   "outputs": [],
   "source": [
    "null_percent = ((train.isnull().sum())/train.shape[0]).tolist()"
   ]
  },
  {
   "attachments": {},
   "cell_type": "markdown",
   "id": "8258fcd3",
   "metadata": {
    "papermill": {
     "duration": 0.007693,
     "end_time": "2022-08-11T09:43:33.176942",
     "exception": false,
     "start_time": "2022-08-11T09:43:33.169249",
     "status": "completed"
    },
    "tags": []
   },
   "source": [
    "## Removes features that have more than 50% missing values\n",
    "<a id=\"50%-missing\"></a>"
   ]
  },
  {
   "cell_type": "code",
   "execution_count": 6,
   "id": "7b53bcea",
   "metadata": {
    "execution": {
     "iopub.execute_input": "2022-08-11T09:43:33.198223Z",
     "iopub.status.busy": "2022-08-11T09:43:33.196697Z",
     "iopub.status.idle": "2022-08-11T09:43:33.204653Z",
     "shell.execute_reply": "2022-08-11T09:43:33.202881Z"
    },
    "papermill": {
     "duration": 0.022008,
     "end_time": "2022-08-11T09:43:33.207644",
     "exception": false,
     "start_time": "2022-08-11T09:43:33.185636",
     "status": "completed"
    },
    "tags": []
   },
   "outputs": [],
   "source": [
    "null_list = []\n",
    "for i in range(0,len(null_percent)):\n",
    "    if null_percent[i]>=0.5:\n",
    "        null_list.append(i)\n",
    "null_list \n",
    "del null_percent"
   ]
  },
  {
   "cell_type": "code",
   "execution_count": 7,
   "id": "24d8131e",
   "metadata": {
    "execution": {
     "iopub.execute_input": "2022-08-11T09:43:33.228344Z",
     "iopub.status.busy": "2022-08-11T09:43:33.227100Z",
     "iopub.status.idle": "2022-08-11T09:43:34.536509Z",
     "shell.execute_reply": "2022-08-11T09:43:34.534896Z"
    },
    "papermill": {
     "duration": 1.32363,
     "end_time": "2022-08-11T09:43:34.539661",
     "exception": false,
     "start_time": "2022-08-11T09:43:33.216031",
     "status": "completed"
    },
    "tags": []
   },
   "outputs": [],
   "source": [
    "train_drop = train.drop(train.columns[null_list],axis=1)\n",
    "test_drop = test.drop(test.columns[null_list],axis=1)\n",
    "del train\n",
    "del test\n",
    "del null_list"
   ]
  },
  {
   "cell_type": "code",
   "execution_count": 8,
   "id": "9d7e0e98",
   "metadata": {
    "execution": {
     "iopub.execute_input": "2022-08-11T09:43:34.576114Z",
     "iopub.status.busy": "2022-08-11T09:43:34.575671Z",
     "iopub.status.idle": "2022-08-11T09:43:34.999377Z",
     "shell.execute_reply": "2022-08-11T09:43:34.996767Z"
    },
    "papermill": {
     "duration": 0.437717,
     "end_time": "2022-08-11T09:43:35.002708",
     "exception": false,
     "start_time": "2022-08-11T09:43:34.564991",
     "status": "completed"
    },
    "tags": []
   },
   "outputs": [
    {
     "name": "stdout",
     "output_type": "stream",
     "text": [
      "<class 'pandas.core.frame.DataFrame'>\n",
      "Index: 458913 entries, 0000099d6bd597052cdcda90ffabf56573fe9d7c79be5fbac11a8ed792feb62a to fffff1d38b785cef84adeace64f8f83db3a0c31e8d92eaba8b115f71cab04681\n",
      "Data columns (total 161 columns):\n",
      " #    Column  Non-Null Count   Dtype         \n",
      "---   ------  --------------   -----         \n",
      " 0    S_2     458913 non-null  datetime64[ns]\n",
      " 1    P_2     455944 non-null  float16       \n",
      " 2    D_39    458913 non-null  float16       \n",
      " 3    B_1     458913 non-null  float16       \n",
      " 4    B_2     458882 non-null  float16       \n",
      " 5    R_1     458913 non-null  float16       \n",
      " 6    S_3     373943 non-null  float16       \n",
      " 7    D_41    458882 non-null  float16       \n",
      " 8    B_3     458882 non-null  float16       \n",
      " 9    D_43    324591 non-null  float16       \n",
      " 10   D_44    436618 non-null  float16       \n",
      " 11   B_4     458913 non-null  float16       \n",
      " 12   D_45    458882 non-null  float16       \n",
      " 13   B_5     458913 non-null  float16       \n",
      " 14   R_2     458913 non-null  float16       \n",
      " 15   D_46    363790 non-null  float16       \n",
      " 16   D_47    458913 non-null  float16       \n",
      " 17   D_48    400921 non-null  float16       \n",
      " 18   B_6     458873 non-null  float16       \n",
      " 19   B_7     458913 non-null  float16       \n",
      " 20   B_8     454822 non-null  float16       \n",
      " 21   D_51    458913 non-null  float16       \n",
      " 22   B_9     458913 non-null  float16       \n",
      " 23   R_3     458913 non-null  float16       \n",
      " 24   D_52    457673 non-null  float16       \n",
      " 25   P_3     436693 non-null  float16       \n",
      " 26   B_10    458913 non-null  float16       \n",
      " 27   S_5     458913 non-null  float16       \n",
      " 28   B_11    458913 non-null  float16       \n",
      " 29   S_6     458913 non-null  float16       \n",
      " 30   D_54    458882 non-null  float16       \n",
      " 31   R_4     458913 non-null  float16       \n",
      " 32   S_7     373943 non-null  float16       \n",
      " 33   B_12    458913 non-null  float16       \n",
      " 34   S_8     458913 non-null  float16       \n",
      " 35   D_55    428536 non-null  float16       \n",
      " 36   B_13    457350 non-null  float16       \n",
      " 37   R_5     458913 non-null  float16       \n",
      " 38   D_58    458913 non-null  float16       \n",
      " 39   S_9     275055 non-null  float16       \n",
      " 40   B_14    458913 non-null  float16       \n",
      " 41   D_59    454827 non-null  float16       \n",
      " 42   D_60    458913 non-null  float16       \n",
      " 43   D_61    410565 non-null  float16       \n",
      " 44   B_15    458301 non-null  float16       \n",
      " 45   S_11    458913 non-null  float16       \n",
      " 46   D_62    399960 non-null  float16       \n",
      " 47   D_63    458913 non-null  category      \n",
      " 48   D_64    458913 non-null  category      \n",
      " 49   D_65    458913 non-null  float16       \n",
      " 50   B_16    458882 non-null  float16       \n",
      " 51   B_18    458913 non-null  float16       \n",
      " 52   B_19    458882 non-null  float16       \n",
      " 53   B_20    458882 non-null  float16       \n",
      " 54   D_68    449901 non-null  category      \n",
      " 55   S_12    458913 non-null  float16       \n",
      " 56   R_6     458913 non-null  float16       \n",
      " 57   S_13    458913 non-null  float16       \n",
      " 58   B_21    458913 non-null  float16       \n",
      " 59   D_69    452548 non-null  float16       \n",
      " 60   B_22    458882 non-null  float16       \n",
      " 61   D_70    454717 non-null  float16       \n",
      " 62   D_71    458913 non-null  float16       \n",
      " 63   D_72    457697 non-null  float16       \n",
      " 64   S_15    458913 non-null  float16       \n",
      " 65   B_23    458913 non-null  float16       \n",
      " 66   P_4     458913 non-null  float16       \n",
      " 67   D_74    457212 non-null  float16       \n",
      " 68   D_75    458913 non-null  float16       \n",
      " 69   B_24    458913 non-null  float16       \n",
      " 70   R_7     458913 non-null  float16       \n",
      " 71   D_77    245076 non-null  float16       \n",
      " 72   B_25    458301 non-null  float16       \n",
      " 73   B_26    458882 non-null  float16       \n",
      " 74   D_78    436618 non-null  float16       \n",
      " 75   D_79    456118 non-null  float16       \n",
      " 76   R_8     458913 non-null  float16       \n",
      " 77   S_16    458913 non-null  float16       \n",
      " 78   D_80    457212 non-null  float16       \n",
      " 79   R_10    458913 non-null  float16       \n",
      " 80   R_11    458913 non-null  float16       \n",
      " 81   B_27    458882 non-null  float16       \n",
      " 82   D_81    457723 non-null  float16       \n",
      " 83   S_17    458913 non-null  float16       \n",
      " 84   R_12    458913 non-null  float16       \n",
      " 85   B_28    458913 non-null  float16       \n",
      " 86   R_13    458913 non-null  float16       \n",
      " 87   D_83    452548 non-null  float16       \n",
      " 88   R_14    458913 non-null  float16       \n",
      " 89   R_15    458913 non-null  float16       \n",
      " 90   D_84    457673 non-null  float16       \n",
      " 91   R_16    458913 non-null  float16       \n",
      " 92   B_30    458882 non-null  category      \n",
      " 93   S_18    458913 non-null  float16       \n",
      " 94   D_86    458913 non-null  float16       \n",
      " 95   R_17    458913 non-null  float16       \n",
      " 96   R_18    458913 non-null  float16       \n",
      " 97   B_31    458913 non-null  float16       \n",
      " 98   S_19    458913 non-null  float16       \n",
      " 99   R_19    458913 non-null  float16       \n",
      " 100  B_32    458913 non-null  float16       \n",
      " 101  S_20    458913 non-null  float16       \n",
      " 102  R_20    458913 non-null  float16       \n",
      " 103  R_21    458913 non-null  float16       \n",
      " 104  B_33    458882 non-null  float16       \n",
      " 105  D_89    457673 non-null  float16       \n",
      " 106  R_22    458913 non-null  float16       \n",
      " 107  R_23    458913 non-null  float16       \n",
      " 108  D_91    446106 non-null  float16       \n",
      " 109  D_92    458913 non-null  float16       \n",
      " 110  D_93    458913 non-null  float16       \n",
      " 111  D_94    458913 non-null  float16       \n",
      " 112  R_24    458913 non-null  float16       \n",
      " 113  R_25    458913 non-null  float16       \n",
      " 114  D_96    458913 non-null  float16       \n",
      " 115  S_22    457146 non-null  float16       \n",
      " 116  S_23    458869 non-null  float16       \n",
      " 117  S_24    457179 non-null  float16       \n",
      " 118  S_25    457492 non-null  float16       \n",
      " 119  S_26    458913 non-null  float16       \n",
      " 120  D_102   458913 non-null  float16       \n",
      " 121  D_103   456083 non-null  float16       \n",
      " 122  D_104   456083 non-null  float16       \n",
      " 123  D_107   456083 non-null  float16       \n",
      " 124  B_36    458913 non-null  float16       \n",
      " 125  B_37    458913 non-null  float16       \n",
      " 126  R_27    430177 non-null  float16       \n",
      " 127  B_38    458882 non-null  category      \n",
      " 128  D_109   458882 non-null  float16       \n",
      " 129  D_112   458882 non-null  float16       \n",
      " 130  B_40    458913 non-null  float16       \n",
      " 131  S_27    341747 non-null  float16       \n",
      " 132  D_113   452896 non-null  float16       \n",
      " 133  D_114   452896 non-null  category      \n",
      " 134  D_115   452896 non-null  float16       \n",
      " 135  D_116   452896 non-null  category      \n",
      " 136  D_117   452896 non-null  category      \n",
      " 137  D_118   452896 non-null  float16       \n",
      " 138  D_119   452896 non-null  float16       \n",
      " 139  D_120   452896 non-null  category      \n",
      " 140  D_121   452896 non-null  float16       \n",
      " 141  D_122   452896 non-null  float16       \n",
      " 142  D_123   452896 non-null  float16       \n",
      " 143  D_124   452896 non-null  float16       \n",
      " 144  D_125   452896 non-null  float16       \n",
      " 145  D_126   458913 non-null  category      \n",
      " 146  D_127   458913 non-null  float16       \n",
      " 147  D_128   456083 non-null  float16       \n",
      " 148  D_129   456083 non-null  float16       \n",
      " 149  B_41    458913 non-null  float16       \n",
      " 150  D_130   456083 non-null  float16       \n",
      " 151  D_131   456083 non-null  float16       \n",
      " 152  D_133   458913 non-null  float16       \n",
      " 153  R_28    458913 non-null  float16       \n",
      " 154  D_139   456083 non-null  float16       \n",
      " 155  D_140   458913 non-null  float16       \n",
      " 156  D_141   456083 non-null  float16       \n",
      " 157  D_143   456083 non-null  float16       \n",
      " 158  D_144   458913 non-null  float16       \n",
      " 159  D_145   456083 non-null  float16       \n",
      " 160  target  458913 non-null  int64         \n",
      "dtypes: category(10), datetime64[ns](1), float16(149), int64(1)\n",
      "memory usage: 145.3+ MB\n"
     ]
    }
   ],
   "source": [
    "train_drop.info(max_cols=200, show_counts=True)"
   ]
  },
  {
   "cell_type": "markdown",
   "id": "771f3d54",
   "metadata": {
    "papermill": {
     "duration": 0.008587,
     "end_time": "2022-08-11T09:43:35.040098",
     "exception": false,
     "start_time": "2022-08-11T09:43:35.031511",
     "status": "completed"
    },
    "tags": []
   },
   "source": [
    "# Preprocessing Data"
   ]
  },
  {
   "cell_type": "code",
   "execution_count": 9,
   "id": "c19e05c5",
   "metadata": {
    "execution": {
     "iopub.execute_input": "2022-08-11T09:43:35.061466Z",
     "iopub.status.busy": "2022-08-11T09:43:35.060559Z",
     "iopub.status.idle": "2022-08-11T09:43:35.995562Z",
     "shell.execute_reply": "2022-08-11T09:43:35.994087Z"
    },
    "papermill": {
     "duration": 0.948897,
     "end_time": "2022-08-11T09:43:35.999005",
     "exception": false,
     "start_time": "2022-08-11T09:43:35.050108",
     "status": "completed"
    },
    "tags": []
   },
   "outputs": [],
   "source": [
    "df_drop = train_drop.drop(columns=[\"target\",'S_2'], axis=1)\n",
    "test_final = test_drop.drop(columns=['S_2'], axis=1)"
   ]
  },
  {
   "cell_type": "code",
   "execution_count": 10,
   "id": "2bbd37be",
   "metadata": {
    "execution": {
     "iopub.execute_input": "2022-08-11T09:43:36.018684Z",
     "iopub.status.busy": "2022-08-11T09:43:36.018219Z",
     "iopub.status.idle": "2022-08-11T09:43:36.064315Z",
     "shell.execute_reply": "2022-08-11T09:43:36.062977Z"
    },
    "papermill": {
     "duration": 0.059656,
     "end_time": "2022-08-11T09:43:36.067442",
     "exception": false,
     "start_time": "2022-08-11T09:43:36.007786",
     "status": "completed"
    },
    "tags": []
   },
   "outputs": [],
   "source": [
    "y = train_drop[\"target\"]\n",
    "del train_drop\n",
    "del test_drop"
   ]
  },
  {
   "cell_type": "code",
   "execution_count": 11,
   "id": "b92c7c7b",
   "metadata": {
    "execution": {
     "iopub.execute_input": "2022-08-11T09:43:36.088701Z",
     "iopub.status.busy": "2022-08-11T09:43:36.087738Z",
     "iopub.status.idle": "2022-08-11T09:43:37.464222Z",
     "shell.execute_reply": "2022-08-11T09:43:37.462965Z"
    },
    "papermill": {
     "duration": 1.390689,
     "end_time": "2022-08-11T09:43:37.467394",
     "exception": false,
     "start_time": "2022-08-11T09:43:36.076705",
     "status": "completed"
    },
    "tags": []
   },
   "outputs": [],
   "source": [
    "X_train, X_test, y_train, y_test = train_test_split(df_drop, y, test_size = 0.1)"
   ]
  },
  {
   "cell_type": "code",
   "execution_count": 12,
   "id": "27580b78",
   "metadata": {
    "execution": {
     "iopub.execute_input": "2022-08-11T09:43:37.488295Z",
     "iopub.status.busy": "2022-08-11T09:43:37.486672Z",
     "iopub.status.idle": "2022-08-11T09:43:37.494609Z",
     "shell.execute_reply": "2022-08-11T09:43:37.493151Z"
    },
    "papermill": {
     "duration": 0.022054,
     "end_time": "2022-08-11T09:43:37.498763",
     "exception": false,
     "start_time": "2022-08-11T09:43:37.476709",
     "status": "completed"
    },
    "tags": []
   },
   "outputs": [],
   "source": [
    "clf = LGBMClassifier(n_estimators=1200,\n",
    "                          learning_rate=0.03, reg_lambda=50,\n",
    "                          min_child_samples=2400,\n",
    "                          num_leaves=95,\n",
    "                          colsample_bytree=0.19,\n",
    "                          max_bins=511, random_state=1)"
   ]
  },
  {
   "cell_type": "code",
   "execution_count": 13,
   "id": "3ae5fd78",
   "metadata": {
    "execution": {
     "iopub.execute_input": "2022-08-11T09:43:37.518759Z",
     "iopub.status.busy": "2022-08-11T09:43:37.517221Z",
     "iopub.status.idle": "2022-08-11T09:46:11.157544Z",
     "shell.execute_reply": "2022-08-11T09:46:11.155446Z"
    },
    "papermill": {
     "duration": 153.661726,
     "end_time": "2022-08-11T09:46:11.168961",
     "exception": false,
     "start_time": "2022-08-11T09:43:37.507235",
     "status": "completed"
    },
    "tags": []
   },
   "outputs": [
    {
     "data": {
      "text/plain": [
       "LGBMClassifier(colsample_bytree=0.19, learning_rate=0.03, max_bins=511,\n",
       "               min_child_samples=2400, n_estimators=1200, num_leaves=95,\n",
       "               random_state=1, reg_lambda=50)"
      ]
     },
     "execution_count": 13,
     "metadata": {},
     "output_type": "execute_result"
    }
   ],
   "source": [
    "clf.fit(X_train,y_train)"
   ]
  },
  {
   "cell_type": "code",
   "execution_count": 14,
   "id": "21b52fef",
   "metadata": {
    "execution": {
     "iopub.execute_input": "2022-08-11T09:46:11.188352Z",
     "iopub.status.busy": "2022-08-11T09:46:11.187131Z",
     "iopub.status.idle": "2022-08-11T09:46:15.108529Z",
     "shell.execute_reply": "2022-08-11T09:46:15.106666Z"
    },
    "papermill": {
     "duration": 3.934559,
     "end_time": "2022-08-11T09:46:15.111704",
     "exception": false,
     "start_time": "2022-08-11T09:46:11.177145",
     "status": "completed"
    },
    "tags": []
   },
   "outputs": [
    {
     "name": "stdout",
     "output_type": "stream",
     "text": [
      "LGBM Classifier Accuracy: 0.902\n"
     ]
    }
   ],
   "source": [
    "y_predict=clf.predict(X_test)\n",
    "print('LGBM Classifier Accuracy: {:.3f}'.format(accuracy_score(y_test, y_predict)))"
   ]
  },
  {
   "cell_type": "code",
   "execution_count": 15,
   "id": "c5e9d10e",
   "metadata": {
    "execution": {
     "iopub.execute_input": "2022-08-11T09:46:15.131047Z",
     "iopub.status.busy": "2022-08-11T09:46:15.130587Z",
     "iopub.status.idle": "2022-08-11T09:47:33.481233Z",
     "shell.execute_reply": "2022-08-11T09:47:33.479164Z"
    },
    "papermill": {
     "duration": 78.364916,
     "end_time": "2022-08-11T09:47:33.485482",
     "exception": false,
     "start_time": "2022-08-11T09:46:15.120566",
     "status": "completed"
    },
    "tags": []
   },
   "outputs": [],
   "source": [
    "y_test_predict=clf.predict_proba(test_final)"
   ]
  },
  {
   "cell_type": "code",
   "execution_count": 16,
   "id": "728e15f6",
   "metadata": {
    "execution": {
     "iopub.execute_input": "2022-08-11T09:47:33.507034Z",
     "iopub.status.busy": "2022-08-11T09:47:33.506335Z",
     "iopub.status.idle": "2022-08-11T09:47:33.513306Z",
     "shell.execute_reply": "2022-08-11T09:47:33.511365Z"
    },
    "papermill": {
     "duration": 0.02115,
     "end_time": "2022-08-11T09:47:33.516551",
     "exception": false,
     "start_time": "2022-08-11T09:47:33.495401",
     "status": "completed"
    },
    "tags": []
   },
   "outputs": [],
   "source": [
    "a = pd.DataFrame({\"prediction\":y_predict})"
   ]
  },
  {
   "cell_type": "code",
   "execution_count": 17,
   "id": "9b80bb91",
   "metadata": {
    "execution": {
     "iopub.execute_input": "2022-08-11T09:47:33.538959Z",
     "iopub.status.busy": "2022-08-11T09:47:33.537698Z",
     "iopub.status.idle": "2022-08-11T09:47:33.548822Z",
     "shell.execute_reply": "2022-08-11T09:47:33.547733Z"
    },
    "papermill": {
     "duration": 0.025758,
     "end_time": "2022-08-11T09:47:33.551805",
     "exception": false,
     "start_time": "2022-08-11T09:47:33.526047",
     "status": "completed"
    },
    "tags": []
   },
   "outputs": [
    {
     "data": {
      "text/plain": [
       "0    34173\n",
       "1    11719\n",
       "Name: prediction, dtype: int64"
      ]
     },
     "execution_count": 17,
     "metadata": {},
     "output_type": "execute_result"
    }
   ],
   "source": [
    "a['prediction'].value_counts()"
   ]
  },
  {
   "cell_type": "code",
   "execution_count": 18,
   "id": "fb5e4baa",
   "metadata": {
    "execution": {
     "iopub.execute_input": "2022-08-11T09:47:33.574523Z",
     "iopub.status.busy": "2022-08-11T09:47:33.574042Z",
     "iopub.status.idle": "2022-08-11T09:47:33.582252Z",
     "shell.execute_reply": "2022-08-11T09:47:33.581046Z"
    },
    "papermill": {
     "duration": 0.023844,
     "end_time": "2022-08-11T09:47:33.585611",
     "exception": false,
     "start_time": "2022-08-11T09:47:33.561767",
     "status": "completed"
    },
    "tags": []
   },
   "outputs": [
    {
     "data": {
      "text/plain": [
       "array([[0.98716558, 0.01283442],\n",
       "       [0.99834928, 0.00165072],\n",
       "       [0.95941537, 0.04058463],\n",
       "       ...,\n",
       "       [0.46934449, 0.53065551],\n",
       "       [0.8100769 , 0.1899231 ],\n",
       "       [0.9577935 , 0.0422065 ]])"
      ]
     },
     "execution_count": 18,
     "metadata": {},
     "output_type": "execute_result"
    }
   ],
   "source": [
    "y_test_predict"
   ]
  },
  {
   "cell_type": "code",
   "execution_count": 19,
   "id": "8c945585",
   "metadata": {
    "execution": {
     "iopub.execute_input": "2022-08-11T09:47:33.607074Z",
     "iopub.status.busy": "2022-08-11T09:47:33.606662Z",
     "iopub.status.idle": "2022-08-11T09:47:37.119574Z",
     "shell.execute_reply": "2022-08-11T09:47:37.117810Z"
    },
    "papermill": {
     "duration": 3.52896,
     "end_time": "2022-08-11T09:47:37.123940",
     "exception": false,
     "start_time": "2022-08-11T09:47:33.594980",
     "status": "completed"
    },
    "tags": []
   },
   "outputs": [],
   "source": [
    "y_predict_final=y_test_predict[:,-1]\n",
    "\n",
    "# Combine the predicted values and customer IDs into a submission DataFrame\n",
    "submission = pd.DataFrame({\"customer_ID\":test_final.index,\"prediction\":y_predict_final})\n",
    "\n",
    "submission.to_csv('submission.csv', index=False)"
   ]
  }
 ],
 "metadata": {
  "kernelspec": {
   "display_name": "Python 3",
   "language": "python",
   "name": "python3"
  },
  "language_info": {
   "codemirror_mode": {
    "name": "ipython",
    "version": 3
   },
   "file_extension": ".py",
   "mimetype": "text/x-python",
   "name": "python",
   "nbconvert_exporter": "python",
   "pygments_lexer": "ipython3",
   "version": "3.8.10 (default, Nov 14 2022, 12:59:47) \n[GCC 9.4.0]"
  },
  "papermill": {
   "default_parameters": {},
   "duration": 329.881096,
   "end_time": "2022-08-11T09:47:38.725724",
   "environment_variables": {},
   "exception": null,
   "input_path": "__notebook__.ipynb",
   "output_path": "__notebook__.ipynb",
   "parameters": {},
   "start_time": "2022-08-11T09:42:08.844628",
   "version": "2.3.4"
  },
  "vscode": {
   "interpreter": {
    "hash": "916dbcbb3f70747c44a77c7bcd40155683ae19c65e1c03b4aa3499c5328201f1"
   }
  }
 },
 "nbformat": 4,
 "nbformat_minor": 5
}
